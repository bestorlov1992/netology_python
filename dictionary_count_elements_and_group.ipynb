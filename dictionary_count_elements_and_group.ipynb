{
 "cells": [
  {
   "cell_type": "markdown",
   "id": "c367b031",
   "metadata": {},
   "source": [
    "### Упражнение\n",
    "\n",
    "Посчитайте количество уникальных значений канала в листе big_data_list (второй столбец)\n"
   ]
  },
  {
   "cell_type": "code",
   "execution_count": 2,
   "id": "7c4c0d31",
   "metadata": {},
   "outputs": [
    {
     "name": "stdout",
     "output_type": "stream",
     "text": [
      "{'direct': [{'none': 1}, 1],\n",
      " 'google': [{'cpc': 2, 'organic': 1}, 2],\n",
      " 'market': [{'cpc': 1}, 1],\n",
      " 'yandex': [{'cpc1': 1, 'cpc2': 1, 'cpc3': 1, 'organic': 1}, 4]}\n"
     ]
    }
   ],
   "source": [
    "import pprint\n",
    "\n",
    "big_data_list = [\n",
    "    ['google', 'cpc', 925],\n",
    "    ['yandex', 'organic', 790],\n",
    "    ['market', 'cpc', 465],\n",
    "    ['google', 'organic', 413],\n",
    "    ['google', 'cpc', 398],\n",
    "    ['direct', 'none', 115],\n",
    "    ['yandex', 'cpc1', 43],\n",
    "    ['yandex', 'cpc2', 43],\n",
    "    ['yandex', 'cpc3', 43]\n",
    "]\n",
    "\n",
    "stats = {}\n",
    "for row in big_data_list:\n",
    "    if not stats.get(row[0]):\n",
    "        stats.setdefault(row[0], [{row[1] : 1}, 1])\n",
    "    else:\n",
    "        d_in = stats[row[0]]\n",
    "        if not d_in[0].get(row[1]):\n",
    "            d_in[1] += 1\n",
    "            d_in[0][row[1]] = d_in[0].get(row[1], 0) + 1\n",
    "        else:\n",
    "            d_in[0][row[1]] = d_in[0].get(row[1], 0) + 1\n",
    "        \n",
    "pprint.pprint(stats)   "
   ]
  },
  {
   "cell_type": "code",
   "execution_count": null,
   "id": "a5806a38",
   "metadata": {},
   "outputs": [],
   "source": []
  }
 ],
 "metadata": {
  "kernelspec": {
   "display_name": "Python 3.7.1 64-bit",
   "language": "python",
   "name": "python3"
  },
  "language_info": {
   "codemirror_mode": {
    "name": "ipython",
    "version": 3
   },
   "file_extension": ".py",
   "mimetype": "text/x-python",
   "name": "python",
   "nbconvert_exporter": "python",
   "pygments_lexer": "ipython3",
   "version": "3.7.1"
  },
  "vscode": {
   "interpreter": {
    "hash": "fbe58ca63fe33f9eeae9e71d10368d2b4a57f2b1b395836210cc60d362c66949"
   }
  }
 },
 "nbformat": 4,
 "nbformat_minor": 5
}
